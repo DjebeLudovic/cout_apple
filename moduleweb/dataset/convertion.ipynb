{
 "cells": [
  {
   "cell_type": "code",
   "execution_count": 1,
   "metadata": {},
   "outputs": [
    {
     "name": "stdout",
     "output_type": "stream",
     "text": [
      "Conversion réussie : 'cours_apple_5.json' créé avec succès.\n"
     ]
    }
   ],
   "source": [
    "import pandas as pd\n",
    "\n",
    "try:\n",
    "    # Lire le fichier CSV\n",
    "    df_climat = pd.read_csv(\"cours_apple_5.csv\")\n",
    "    \n",
    "    # Convertir et enregistrer en JSON\n",
    "    df_climat.to_json(\"cours_apple_5.json\", orient=\"records\", indent=4)\n",
    "    print(\"Conversion réussie : 'cours_apple_5.json' créé avec succès.\")\n",
    "except FileNotFoundError:\n",
    "    print(\"Erreur : Le fichier 'cours_apple_5.csv' est introuvable.\")\n",
    "except Exception as e:\n",
    "    print(f\"Une erreur est survenue : {e}\")\n"
   ]
  },
  {
   "cell_type": "code",
   "execution_count": null,
   "metadata": {},
   "outputs": [],
   "source": []
  }
 ],
 "metadata": {
  "kernelspec": {
   "display_name": "datascience",
   "language": "python",
   "name": "python3"
  },
  "language_info": {
   "codemirror_mode": {
    "name": "ipython",
    "version": 3
   },
   "file_extension": ".py",
   "mimetype": "text/x-python",
   "name": "python",
   "nbconvert_exporter": "python",
   "pygments_lexer": "ipython3",
   "version": "3.11.9"
  }
 },
 "nbformat": 4,
 "nbformat_minor": 2
}
