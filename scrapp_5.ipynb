{
 "cells": [
  {
   "cell_type": "code",
   "execution_count": 1,
   "metadata": {},
   "outputs": [
    {
     "name": "stdout",
     "output_type": "stream",
     "text": [
      "Yahoo fait partie de la famille de marques Yahoo.\n"
     ]
    }
   ],
   "source": [
    "from selenium import webdriver\n",
    "from selenium.webdriver.firefox.service import Service\n",
    "\n",
    "# Chemin vers GeckoDriver\n",
    "service = Service(\"/Users/ludovic/Applications/geckodriver 2\")\n",
    "\n",
    "# Initialiser le WebDriver pour Firefox\n",
    "driver = webdriver.Firefox(service=service)\n",
    "\n",
    "# Charger une page\n",
    "driver.get(\"https://fr.finance.yahoo.com/quote/AAPL/history/\")\n",
    "print(driver.title)\n",
    "\n",
    "# Fermer le navigateur\n",
    "driver.quit()\n"
   ]
  },
  {
   "cell_type": "code",
   "execution_count": 2,
   "metadata": {},
   "outputs": [
    {
     "name": "stdout",
     "output_type": "stream",
     "text": [
      "Données extraites et sauvegardées dans 'cours_apple_5.csv' !\n",
      "           Date Ouverture Plus Haut Plus Bas   Ferme Clôture Ajustée  \\\n",
      "0  21 nov. 2024    228,79    230,15   225,71  228,52          228,52   \n",
      "1  20 nov. 2024    228,06    229,93   225,89  229,00          229,00   \n",
      "2  19 nov. 2024    226,98    230,16   226,66  228,28          228,28   \n",
      "3  18 nov. 2024    225,25    229,74   225,17  228,02          228,02   \n",
      "4  15 nov. 2024    226,40    226,92   224,27  225,00          225,00   \n",
      "\n",
      "       Volume  \n",
      "0  40 355 157  \n",
      "1  35 169 600  \n",
      "2  36 211 800  \n",
      "3  44 686 000  \n",
      "4  47 923 700  \n"
     ]
    }
   ],
   "source": [
    "from selenium import webdriver\n",
    "from selenium.webdriver.firefox.service import Service\n",
    "from selenium.webdriver.firefox.options import Options\n",
    "from selenium.webdriver.common.by import By\n",
    "from selenium.webdriver.support.ui import WebDriverWait\n",
    "from selenium.webdriver.support import expected_conditions as EC\n",
    "import pandas as pd\n",
    "import time\n",
    "\n",
    "\n",
    "#Generer les timestamps pour une periode de 5 ans\n",
    "\n",
    "end_date = int(time.time()) # Date actuelle\n",
    "start_date = end_date - 5 * 365 * 24 * 60 * 60 # 5 ans en secondes\n",
    "\n",
    "# URL de Yahoo Finance pour les cours historiques d'Apple sur les cinqs dernières années\n",
    "url = f\"https://fr.finance.yahoo.com/quote/AAPL/history?period1={start_date}&period2={end_date}&interval=1d&filter=history&frequency=1d\"\n",
    "\n",
    "# Chemin vers GeckoDriver\n",
    "service = Service(\"C:\\\\Users\\\\mouna\\\\geckodriver.exe\")\n",
    "\n",
    "# Configurez les options Firefox\n",
    "options = Options()\n",
    "options.binary_location = \"C:\\\\Program Files\\\\Mozilla Firefox\\\\firefox.exe\"  \n",
    "\n",
    "# Initialiser le WebDriver pour Firefox\n",
    "driver = webdriver.Firefox(service=service, options=options)\n",
    "\n",
    "\n",
    "\n",
    "try:\n",
    "    # Chargement la page\n",
    "    driver.get(url)\n",
    "\n",
    "    # Attendre que le tableau soit visible\n",
    "    table = WebDriverWait(driver, 50).until(\n",
    "        EC.presence_of_element_located((By.XPATH, \"//table[contains(@class, 'table yf-j5d1ld noDl')]\"))\n",
    "    )\n",
    "\n",
    "    # Récupérer les lignes du tableau\n",
    "    rows = table.find_elements(By.TAG_NAME, \"tr\")\n",
    "\n",
    "    # Extraire les données et ignorer l'en tete\n",
    "    data = []\n",
    "    for row in rows[1:]:  \n",
    "        cells = row.find_elements(By.TAG_NAME, \"td\")\n",
    "        if len(cells) == 7: \n",
    "            row_data = [cell.text for cell in cells]\n",
    "            data.append(row_data)\n",
    "\n",
    "    # Convertir les données en DataFrame\n",
    "    columns = [\"Date\", \"Ouverture\", \"Plus Haut\", \"Plus Bas\", \"Ferme\", \"Clôture Ajustée\", \"Volume\"]\n",
    "    df = pd.DataFrame(data, columns=columns[:len(data[0])])\n",
    "\n",
    "    # Sauvegarder les données en CSV\n",
    "    df.to_csv(\"cours_apple_5.csv\", index=False)\n",
    "    print(\"Données extraites et sauvegardées dans 'cours_apple_5.csv' !\")\n",
    "    print(df.head())\n",
    "\n",
    "except Exception as e:\n",
    "    print(f\"Erreur lors du scrapping : {e}\")\n",
    "finally:\n",
    "    # Fermer le navigateur\n",
    "    driver.quit()\n"
   ]
  },
  {
   "cell_type": "code",
   "execution_count": null,
   "metadata": {},
   "outputs": [],
   "source": []
  }
 ],
 "metadata": {
  "kernelspec": {
   "display_name": "datascience",
   "language": "python",
   "name": "python3"
  },
  "language_info": {
   "codemirror_mode": {
    "name": "ipython",
    "version": 3
   },
   "file_extension": ".py",
   "mimetype": "text/x-python",
   "name": "python",
   "nbconvert_exporter": "python",
   "pygments_lexer": "ipython3",
   "version": "3.11.9"
  },
  "orig_nbformat": 4
 },
 "nbformat": 4,
 "nbformat_minor": 2
}
